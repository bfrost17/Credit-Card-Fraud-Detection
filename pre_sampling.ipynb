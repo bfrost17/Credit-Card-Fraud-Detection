{
 "cells": [
  {
   "cell_type": "code",
   "execution_count": 4,
   "id": "97dfc4fe",
   "metadata": {},
   "outputs": [],
   "source": [
    "import pandas as pd\n",
    "fraud_df = pd.read_csv(\"E:\\projects\\DMT\\creditcard.csv\")"
   ]
  },
  {
   "cell_type": "code",
   "execution_count": 7,
   "id": "3b1d5759",
   "metadata": {},
   "outputs": [
    {
     "name": "stdout",
     "output_type": "stream",
     "text": [
      "(199364, 30)\n",
      "(85443, 30)\n",
      "(199364, 1)\n",
      "(85443, 1)\n"
     ]
    }
   ],
   "source": [
    "X = fraud_df.drop(['Class'], axis=1)\n",
    "y = fraud_df[['Class']]\n",
    "from sklearn.model_selection import train_test_split\n",
    "X_train, X_test, y_train, y_test = train_test_split(X, y, test_size=0.3, random_state=0)\n",
    "print(X_train.shape)\n",
    "print(X_test.shape)\n",
    "print(y_train.shape)\n",
    "print(y_test.shape)"
   ]
  },
  {
   "cell_type": "code",
   "execution_count": 8,
   "id": "404e964a",
   "metadata": {},
   "outputs": [
    {
     "name": "stdout",
     "output_type": "stream",
     "text": [
      "Model training starts........\n",
      "Model training completed\n",
      "Accuracy of model on test dataset :- 0.9992626663389628\n",
      "Confusion Matrix :- \n",
      " [[85267    29]\n",
      " [   34   113]]\n",
      "Classification Report :- \n",
      "               precision    recall  f1-score   support\n",
      "\n",
      "           0       1.00      1.00      1.00     85296\n",
      "           1       0.80      0.77      0.78       147\n",
      "\n",
      "    accuracy                           1.00     85443\n",
      "   macro avg       0.90      0.88      0.89     85443\n",
      "weighted avg       1.00      1.00      1.00     85443\n",
      "\n"
     ]
    }
   ],
   "source": [
    "from sklearn.tree import DecisionTreeClassifier\n",
    "from sklearn.metrics import confusion_matrix\n",
    "from sklearn.metrics import classification_report\n",
    "\n",
    "def decision_tree_classification(X_train, y_train, X_test, y_test):\n",
    "    dt_classifier = DecisionTreeClassifier()\n",
    "    # train model by using fit method\n",
    "    print(\"Model training starts........\")\n",
    "    dt_classifier.fit(X_train, y_train.values.ravel())\n",
    "    print(\"Model training completed\")\n",
    "    acc_score = dt_classifier.score(X_test, y_test)\n",
    "    print(f'Accuracy of model on test dataset :- {acc_score}')\n",
    "    # predict result using test dataset\n",
    "    y_pred = dt_classifier.predict(X_test)\n",
    "    # confusion matrix\n",
    "    print(f\"Confusion Matrix :- \\n {confusion_matrix(y_test, y_pred)}\")\n",
    "    # classification report for f1-score\n",
    "    print(f\"Classification Report :- \\n {classification_report(y_test, y_pred)}\")\n",
    "\n",
    "\n",
    "\n",
    "# calling decision_tree_classification method to train and evaluate model\n",
    "decision_tree_classification(X_train, y_train, X_test, y_test)"
   ]
  },
  {
   "cell_type": "code",
   "execution_count": 9,
   "id": "12604b83",
   "metadata": {},
   "outputs": [
    {
     "name": "stdout",
     "output_type": "stream",
     "text": [
      "Model training starts........\n",
      "Accuracy of model on test dataset :- 0.9994850368081645\n",
      "Confusion Matrix :- \n",
      " [[85289     7]\n",
      " [   37   110]]\n",
      "Classification Report :- \n",
      "               precision    recall  f1-score   support\n",
      "\n",
      "           0       1.00      1.00      1.00     85296\n",
      "           1       0.94      0.75      0.83       147\n",
      "\n",
      "    accuracy                           1.00     85443\n",
      "   macro avg       0.97      0.87      0.92     85443\n",
      "weighted avg       1.00      1.00      1.00     85443\n",
      "\n"
     ]
    }
   ],
   "source": [
    "from sklearn.ensemble import RandomForestClassifier\n",
    "from sklearn.metrics import confusion_matrix\n",
    "from sklearn.metrics import classification_report\n",
    "\n",
    "def random_forest_classifier(X_train, y_train, X_test, y_test):\n",
    "     # initialize object for DecisionTreeClassifier class\n",
    "     rf_classifier = RandomForestClassifier(n_estimators=50)\n",
    "     # train model by using fit method\n",
    "     print(\"Model training starts........\")\n",
    "     rf_classifier.fit(X_train, y_train.values.ravel())\n",
    "     acc_score = rf_classifier.score(X_test, y_test)\n",
    "     print(f'Accuracy of model on test dataset :- {acc_score}')\n",
    "     # predict result using test dataset\n",
    "     y_pred = rf_classifier.predict(X_test)\n",
    "     # confusion matrix\n",
    "     print(f\"Confusion Matrix :- \\n {confusion_matrix(y_test, y_pred)}\")\n",
    "     # classification report for f1-score\n",
    "     print(f\"Classification Report :- \\n {classification_report(y_test, y_pred)}\")\n",
    "\n",
    "\n",
    "# calling random_forest_classifier\n",
    "random_forest_classifier(X_train, y_train, X_test, y_test)\n"
   ]
  },
  {
   "cell_type": "code",
   "execution_count": null,
   "id": "aec8cecf",
   "metadata": {},
   "outputs": [],
   "source": []
  }
 ],
 "metadata": {
  "kernelspec": {
   "display_name": "Python 3",
   "language": "python",
   "name": "python3"
  },
  "language_info": {
   "codemirror_mode": {
    "name": "ipython",
    "version": 3
   },
   "file_extension": ".py",
   "mimetype": "text/x-python",
   "name": "python",
   "nbconvert_exporter": "python",
   "pygments_lexer": "ipython3",
   "version": "3.9.4"
  }
 },
 "nbformat": 4,
 "nbformat_minor": 5
}
